{
 "cells": [
  {
   "cell_type": "code",
   "execution_count": 1,
   "metadata": {},
   "outputs": [],
   "source": [
    "import cv2"
   ]
  },
  {
   "cell_type": "code",
   "execution_count": 2,
   "metadata": {},
   "outputs": [],
   "source": [
    "# Get the image path\n",
    "img_path = '/home/surinder/Pictures/cov.jpg'"
   ]
  },
  {
   "cell_type": "code",
   "execution_count": 3,
   "metadata": {},
   "outputs": [],
   "source": [
    "# Read image\n",
    "photo = cv2.imread(img_path)"
   ]
  },
  {
   "cell_type": "code",
   "execution_count": 4,
   "metadata": {},
   "outputs": [
    {
     "data": {
      "text/plain": [
       "array([[[101,  42,  57],\n",
       "        [101,  42,  57],\n",
       "        [101,  42,  57],\n",
       "        ...,\n",
       "        [101,  42,  57],\n",
       "        [101,  42,  57],\n",
       "        [101,  42,  57]],\n",
       "\n",
       "       [[101,  42,  57],\n",
       "        [101,  42,  57],\n",
       "        [101,  42,  57],\n",
       "        ...,\n",
       "        [101,  42,  57],\n",
       "        [101,  42,  57],\n",
       "        [101,  42,  57]],\n",
       "\n",
       "       [[101,  42,  57],\n",
       "        [101,  42,  57],\n",
       "        [101,  42,  57],\n",
       "        ...,\n",
       "        [101,  42,  57],\n",
       "        [101,  42,  57],\n",
       "        [101,  42,  57]],\n",
       "\n",
       "       ...,\n",
       "\n",
       "       [[255, 255, 255],\n",
       "        [255, 255, 255],\n",
       "        [255, 255, 255],\n",
       "        ...,\n",
       "        [ 37, 118, 153],\n",
       "        [ 38, 119, 154],\n",
       "        [ 37, 119, 154]],\n",
       "\n",
       "       [[255, 255, 255],\n",
       "        [255, 255, 255],\n",
       "        [255, 255, 255],\n",
       "        ...,\n",
       "        [ 36, 114, 150],\n",
       "        [ 37, 115, 151],\n",
       "        [ 35, 116, 151]],\n",
       "\n",
       "       [[255, 255, 255],\n",
       "        [255, 255, 255],\n",
       "        [255, 255, 255],\n",
       "        ...,\n",
       "        [ 36, 113, 146],\n",
       "        [ 36, 113, 146],\n",
       "        [ 34, 113, 146]]], dtype=uint8)"
      ]
     },
     "execution_count": 4,
     "metadata": {},
     "output_type": "execute_result"
    }
   ],
   "source": [
    "photo"
   ]
  },
  {
   "cell_type": "code",
   "execution_count": 6,
   "metadata": {},
   "outputs": [],
   "source": [
    "# Display image\n",
    "cv2.imshow('Image',photo)\n",
    "cv2.waitKey()\n",
    "cv2.destroyAllWindows()"
   ]
  },
  {
   "cell_type": "code",
   "execution_count": 7,
   "metadata": {},
   "outputs": [],
   "source": [
    "# Convert color to grey\n",
    "grey_img = cv2.cvtColor(photo, cv2.COLOR_BGR2GRAY)"
   ]
  },
  {
   "cell_type": "code",
   "execution_count": 8,
   "metadata": {},
   "outputs": [],
   "source": [
    "# Display image\n",
    "cv2.imshow('Image',grey_img)\n",
    "cv2.waitKey()\n",
    "cv2.destroyAllWindows()"
   ]
  },
  {
   "cell_type": "code",
   "execution_count": null,
   "metadata": {},
   "outputs": [],
   "source": []
  }
 ],
 "metadata": {
  "kernelspec": {
   "display_name": "Python 3",
   "language": "python",
   "name": "python3"
  },
  "language_info": {
   "codemirror_mode": {
    "name": "ipython",
    "version": 3
   },
   "file_extension": ".py",
   "mimetype": "text/x-python",
   "name": "python",
   "nbconvert_exporter": "python",
   "pygments_lexer": "ipython3",
   "version": "3.6.10"
  }
 },
 "nbformat": 4,
 "nbformat_minor": 4
}
