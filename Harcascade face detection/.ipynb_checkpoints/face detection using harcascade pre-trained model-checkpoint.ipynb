{
 "cells": [
  {
   "cell_type": "code",
   "execution_count": 1,
   "metadata": {},
   "outputs": [],
   "source": [
    "import cv2"
   ]
  },
  {
   "cell_type": "code",
   "execution_count": 2,
   "metadata": {},
   "outputs": [],
   "source": [
    "cap = cv2.VideoCapture(0)"
   ]
  },
  {
   "cell_type": "code",
   "execution_count": 3,
   "metadata": {},
   "outputs": [],
   "source": [
    "face_model = cv2.CascadeClassifier('haarcascade_frontalface_default.xml')"
   ]
  },
  {
   "cell_type": "code",
   "execution_count": 4,
   "metadata": {},
   "outputs": [],
   "source": [
    "while True:\n",
    "    status,photo = cap.read()\n",
    "    face_coordinates = face_model.detectMultiScale(photo)\n",
    "    if len(face_coordinates) != 0:\n",
    "        x1 = face_coordinates[0][0]\n",
    "        y1 = face_coordinates[0][1]\n",
    "        x2 = x1 + face_coordinates[0][2]\n",
    "        y2 = y1 + face_coordinates[0][3]\n",
    "        photo = cv2.rectangle(photo, (x1,y1),(x2,y2),[0,0,255],5)\n",
    "        cv2.imshow('Face Detection',photo)\n",
    "        if cv2.waitKey(10) == 13:\n",
    "            break\n",
    "    else:\n",
    "        pass\n",
    "cv2.destroyAllWindows()\n",
    "cap.release()\n",
    "    "
   ]
  },
  {
   "cell_type": "code",
   "execution_count": null,
   "metadata": {},
   "outputs": [],
   "source": []
  }
 ],
 "metadata": {
  "kernelspec": {
   "display_name": "Python 3",
   "language": "python",
   "name": "python3"
  },
  "language_info": {
   "codemirror_mode": {
    "name": "ipython",
    "version": 3
   },
   "file_extension": ".py",
   "mimetype": "text/x-python",
   "name": "python",
   "nbconvert_exporter": "python",
   "pygments_lexer": "ipython3",
   "version": "3.6.10"
  }
 },
 "nbformat": 4,
 "nbformat_minor": 4
}
